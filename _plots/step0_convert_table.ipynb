{
 "cells": [
  {
   "cell_type": "code",
   "execution_count": 6,
   "id": "88541ac7-9df9-4819-ab6e-c4eac80f02c0",
   "metadata": {},
   "outputs": [],
   "source": [
    "from pathlib import Path\n",
    "import pandas as pd\n",
    "import numpy as np"
   ]
  },
  {
   "cell_type": "code",
   "execution_count": 7,
   "id": "6a330e5c-7d16-4e57-afcd-10ad3e4b98a7",
   "metadata": {},
   "outputs": [
    {
     "data": {
      "text/plain": [
       "{'2': array([ 1. ,  1.5,  2. ,  2.5,  3. ,  3.5,  4. ,  4.5,  5. ,  6. ,  7. ,\n",
       "         8. ,  9. , 10. , 11. , 14. , 16. , 18. , 21. , 21.5, 22. , 22.5,\n",
       "        23. , 23.5, 24. , 25. , 28. , 28.5, 29. , 29.5, 30. , 30.5, 31. ,\n",
       "        31.5, 32. , 33. , 35. , 35.5, 36. , 36.5, 37. , 37.5, 38. , 39. ,\n",
       "        42. , 42.5, 43. , 43.5, 44. , 44.5, 45. , 45.5, 46. , 47. , 50. ,\n",
       "        50.5, 51. , 51.5, 52. , 52.5, 53. , 54. , 57. , 57.5, 58. , 58.5,\n",
       "        59. , 59.5, 60. , 60.5, 61. , 62. , 63. , 64. , 64.5]),\n",
       " '3': array([ 1. ,  1.5,  2. ,  2.5,  3. ,  3.5,  4. ,  4.5,  5. ,  6. ,  7. ,\n",
       "         8. ,  9. , 10. , 11. , 14. , 16. , 18. , 21. , 21.5, 22. , 22.5,\n",
       "        23. , 23.5, 24. , 25. , 28. , 29. , 29.5, 30. , 30.5, 31. , 31.5,\n",
       "        32. , 33. , 35. , 35.5, 36. , 36.5, 37. , 38. , 39. , 42. , 42.5,\n",
       "        43. , 43.5, 44. , 44.5, 45. , 45.5, 46. , 47. , 50. , 50.5, 51. ,\n",
       "        51.5, 52. , 52.5, 53. , 54. , 57. , 57.5, 58. , 58.5, 59. , 59.5,\n",
       "        60. , 60.5, 61. , 62. , 63. , 64. , 64.5]),\n",
       " '4': array([ 1. ,  1.5,  2. ,  2.5,  3. ,  3.5,  4. ,  4.5,  5. ,  6. ,  7. ,\n",
       "         8. ,  9. , 10. , 11. , 14. , 16. , 18. , 21. , 21.5, 22. , 22.5,\n",
       "        23. , 23.5, 24. , 25. , 28. , 29. , 29.5, 30. , 30.5, 31. , 31.5,\n",
       "        32. , 33. , 35. , 35.5, 36. , 36.5, 37. , 37.5, 38. , 39. , 42. ,\n",
       "        42.5, 43. , 43.5, 44. , 44.5, 45. , 45.5, 46. , 47. , 50. , 50.5,\n",
       "        51. , 51.5, 52. , 52.5, 53. , 54. , 57. , 57.5, 58. , 58.5, 59. ,\n",
       "        59.5, 60. , 60.5, 61. , 62. , 63. , 64. , 64.5]),\n",
       " '5': array([ 1. ,  1.5,  2. ,  2.5,  3. ,  3.5,  4. ,  4.5,  5. ,  6. ,  7. ,\n",
       "         8. ,  9. , 10. , 11. , 14. , 16. , 18. , 21. , 21.5, 22. , 22.5,\n",
       "        23. , 23.5, 24. , 25. , 28. , 28.5, 29. , 29.5, 30. , 30.5, 31. ,\n",
       "        31.5, 32. , 33. , 35. , 35.5, 36. , 36.5, 37. , 37.5, 38. , 39. ,\n",
       "        42. , 42.5, 43. , 43.5, 44. , 44.5, 45. , 45.5, 46. , 47. , 50. ,\n",
       "        50.5, 51. , 51.5, 52. , 52.5, 53. , 54. , 57. , 57.5, 58. , 58.5,\n",
       "        59. , 59.5, 60. , 60.5, 61. , 62. , 63. , 64. , 64.5])}"
      ]
     },
     "execution_count": 7,
     "metadata": {},
     "output_type": "execute_result"
    }
   ],
   "source": [
    "raw_data_dir = Path().resolve().parent / \"_data\" / \"healthy\" / \"raw\"\n",
    "real_mouse_timepoints = {}\n",
    "mouse_metadata = pd.read_csv(raw_data_dir / \"metadata.tsv\", sep='\\t')\n",
    "for mouse in ['2', '3', '4', '5']:\n",
    "    mouse_times = []\n",
    "    mouse_slice = mouse_metadata.loc[\n",
    "        mouse_metadata['sampleID'].str.startswith(f'{mouse}-')\n",
    "        & (mouse_metadata['time'] != 0.0)\n",
    "        & (mouse_metadata['time'] != 0.5)\n",
    "    ]\n",
    "    real_mouse_timepoints[mouse] = np.sort(mouse_slice['time'])\n",
    "real_mouse_timepoints"
   ]
  },
  {
   "cell_type": "code",
   "execution_count": 8,
   "id": "3c42f5d1-789e-4457-b51e-bee81fa6babd",
   "metadata": {},
   "outputs": [],
   "source": [
    "output_dir = Path().resolve().parent / \"_outputs\"  # directory containing R output matrices.\n",
    "target_dir = Path() / \"mbtransfer\"  # destination directory"
   ]
  },
  {
   "cell_type": "code",
   "execution_count": 15,
   "id": "e78afa94-6bf7-4c7b-a3fc-e4f25a5ee37c",
   "metadata": {},
   "outputs": [
    {
     "name": "stdout",
     "output_type": "stream",
     "text": [
      "subdir: 1e-4, base: 2.718281828459045, eps=0.0001\n",
      "subdir: 1e-5, base: 2.718281828459045, eps=1e-05\n",
      "subdir: 1e-6, base: 2.718281828459045, eps=1e-06\n"
     ]
    }
   ],
   "source": [
    "def inverse_log(y: float, base: float, eps: float):\n",
    "    \"\"\" Applied the inverse transformation of y=log_10(x+eps) \"\"\"\n",
    "    return np.power(base, y) - eps\n",
    "\n",
    "\n",
    "subdirs = [\n",
    "    ('1e-4', np.exp(1), 1e-4), \n",
    "    ('1e-5', np.exp(1), 1e-5),\n",
    "    ('1e-6', np.exp(1), 1e-6),\n",
    "]\n",
    "\n",
    "for (subdir, base, eps) in subdirs:\n",
    "    print(f'subdir: {subdir}, base: {base}, eps={eps}')\n",
    "    df_entries = []\n",
    "    for mouse_idx, mouse_id in enumerate(['2', '3', '4', '5']):\n",
    "        mouse_pred = pd.read_csv(output_dir / subdir / f\"m{mouse_id}_forecast.csv\", index_col=0)\n",
    "        mouse_input = pd.read_csv(output_dir / subdir / f\"m{mouse_id}_ground_truth.csv\", index_col=0)\n",
    "        for t_idx, t in enumerate(real_mouse_timepoints[mouse_id]):\n",
    "            if np.abs(np.round(t, 0) - t) < 0.01:\n",
    "                t_integer = int(np.round(t, 0))\n",
    "            else:\n",
    "                continue\n",
    "            for taxon_idx, taxon in enumerate(mouse_pred.index):\n",
    "                df_entries.append({\n",
    "                    'HeldoutSubjectId': mouse_id,\n",
    "                    'HeldoutSubjectIdx': mouse_idx,\n",
    "                    'Method': 'mbtransfer',\n",
    "                    'TaxonIdx': taxon_idx,\n",
    "                    'TimePoint': t_idx,\n",
    "                    'Truth': inverse_log(mouse_input.loc[taxon, f'm{mouse_id}_T{t_integer}'], base=base, eps=eps),\n",
    "                    'Pred': inverse_log(mouse_pred.loc[taxon, f'm{mouse_id}_T{t_integer}'], base=base, eps=eps)\n",
    "                })\n",
    "                \n",
    "    heldout_rel_df = pd.DataFrame(df_entries)\n",
    "    del df_entries\n",
    "    (target_dir / subdir).mkdir(exist_ok=True, parents=True)\n",
    "    heldout_rel_df.sort_values(['HeldoutSubjectId', 'TaxonIdx']).to_csv(target_dir / subdir / \"relative_cv.tsv\", sep='\\t', index=False)"
   ]
  },
  {
   "cell_type": "code",
   "execution_count": 12,
   "id": "c2c45b14-76e1-42b8-90ee-a69f6eb20fed",
   "metadata": {},
   "outputs": [
    {
     "data": {
      "text/plain": [
       "-9.210340371976182"
      ]
     },
     "execution_count": 12,
     "metadata": {},
     "output_type": "execute_result"
    }
   ],
   "source": [
    "np.log(1e-4)"
   ]
  },
  {
   "cell_type": "code",
   "execution_count": 14,
   "id": "4ca1025f-3930-4f89-8166-b3529dbbdd06",
   "metadata": {},
   "outputs": [
    {
     "data": {
      "text/plain": [
       "-9.999938388805618e-05"
      ]
     },
     "execution_count": 14,
     "metadata": {},
     "output_type": "execute_result"
    }
   ],
   "source": [
    "inverse_log(-9.21034037197618, base=np.exp(1), eps=1e-4)"
   ]
  }
 ],
 "metadata": {
  "kernelspec": {
   "display_name": "mdsine2",
   "language": "python",
   "name": "mdsine2"
  },
  "language_info": {
   "codemirror_mode": {
    "name": "ipython",
    "version": 3
   },
   "file_extension": ".py",
   "mimetype": "text/x-python",
   "name": "python",
   "nbconvert_exporter": "python",
   "pygments_lexer": "ipython3",
   "version": "3.7.12"
  }
 },
 "nbformat": 4,
 "nbformat_minor": 5
}
