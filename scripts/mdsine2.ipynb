{
 "cells": [
  {
   "cell_type": "code",
   "execution_count": null,
   "id": "ab6a86d6-20f7-440a-8554-53e3ca149843",
   "metadata": {
    "tags": []
   },
   "outputs": [],
   "source": [
    "import mdsine2 as md2\n",
    "import pandas as pd\n",
    "import numpy as np\n",
    "from pathlib import Path\n",
    "\n",
    "# set negative binomial model inference parameters\n",
    "params = md2.config.NegBinConfig(\n",
    "  seed=0, burnin=100, n_samples=200,\n",
    "  checkpoint=50,\n",
    "  seed=0, burnin=0, n_samples=20, checkpoint=10,\n",
    "  basepath=str(\"./negbin\")\n",
    ")\n",
    "\n",
    "path = Path(\"md_data\")\n",
    "dataset = md2.dataset.parse(\n",
    "  name=\"david-diet\", \n",
    "  taxonomy=path/\"taxonomy.tsv\",  \n",
    "  reads=path/\"reads.tsv\", \n",
    "  qpcr=path/\"qpcr.tsv\", \n",
    "  metadata=path/\"metadata.tsv\",\n",
    "  perturbations=path/\"perturbations.tsv\"\n",
    ")"
   ]
  },
  {
   "cell_type": "code",
   "execution_count": null,
   "id": "23c96e53-5ce1-4462-a9e5-07bc8e793785",
   "metadata": {
    "tags": []
   },
   "outputs": [],
   "source": [
    "mcmc_negbin = md2.negbin.build_graph(\n",
    "    params=params,\n",
    "    graph_name=dataset.name,\n",
    "    subjset=dataset\n",
    ")\n",
    "\n",
    "mcmc_negbin.run()"
   ]
  },
  {
   "cell_type": "markdown",
   "id": "bb4299b7-0141-4a20-9155-0a865f41d8bf",
   "metadata": {
    "tags": []
   },
   "source": [
    "###### mcmc_negbin.run()"
   ]
  },
  {
   "cell_type": "code",
   "execution_count": null,
   "id": "ef48d201-b035-419b-b70b-a0dbab1be564",
   "metadata": {
    "tags": []
   },
   "outputs": [],
   "source": [
    "import pathlib\n",
    "from mdsine2.names import STRNAMES\n",
    "\n",
    "a0 = md2.summary(mcmc_negbin.graph[STRNAMES.NEGBIN_A0])['mean']\n",
    "a1 = md2.summary(mcmc_negbin.graph[STRNAMES.NEGBIN_A1])['mean']\n",
    "\n",
    "basepath = pathlib.Path(\"./mdsine2/david\")\n",
    "basepath.mkdir(exist_ok=True, parents=True)\n",
    "\n",
    "# Initialize parameters of the model (Seed = 0) burnin=50, total steps=100\n",
    "params = md2.config.MDSINE2ModelConfig(\n",
    "    basepath=str(basepath), \n",
    "    seed=0,\n",
    "    burnin=50, \n",
    "    n_samples=100, \n",
    "    negbin_a0=a0, negbin_a1=a1, \n",
    "    checkpoint=25\n",
    ")\n",
    "\n",
    "mcmc = md2.initialize_graph(params=params, graph_name=dataset.name, subjset=dataset)\n",
    "mcmc = md2.run_graph(mcmc, crash_if_error=True)"
   ]
  },
  {
   "cell_type": "code",
   "execution_count": null,
   "id": "10050336-a974-4a8c-9bf2-77a2787577f3",
   "metadata": {
    "tags": []
   },
   "outputs": [],
   "source": [
    "import pickle\n",
    "\n",
    "#with open('mcmc-david.pickle', 'wb') as handle:\n",
    "#    pickle.dump(mcmc, handle)\n",
    "\n",
    "#with open(\"mcmc-david.pickle\", \"rb\") as f:\n",
    "#    mcmc = pickle.load(f)"
   ]
  },
  {
   "cell_type": "code",
   "execution_count": null,
   "id": "d7c4aba0-8d3e-4483-adc7-defc21f71353",
   "metadata": {
    "tags": []
   },
   "outputs": [],
   "source": [
    "growth = md2.summary(mcmc.graph[STRNAMES.GROWTH_VALUE])[\"mean\"]\n",
    "interactions = md2.summary(mcmc.graph[STRNAMES.INTERACTIONS_OBJ])[\"mean\"]\n",
    "n_taxa = len(growth)\n",
    "\n",
    "perturbations = [np.ones(n_taxa), 0.5 * np.ones(n_taxa)]\n",
    "starts = [8, 15]\n",
    "ends = [12, 19]\n",
    "\n",
    "dyn = md2.model.gLVDynamicsSingleClustering(growth=growth, interactions=interactions, perturbations=perturbations, perturbation_starts=starts, perturbation_ends=ends)\n"
   ]
  },
  {
   "cell_type": "code",
   "execution_count": null,
   "id": "e30d525b-bb38-48f7-be31-9d61e6852f4f",
   "metadata": {
    "tags": []
   },
   "outputs": [],
   "source": [
    "import pandas as pd\n",
    "\n",
    "x0 = pd.read_csv(\"reads.tsv\", sep = \"\\t\")[\"DD10\"].values.reshape(-1, 1)\n",
    "x = md2.integrate(dynamics=dyn, dt=.1, n_days=3, initial_conditions=x0)\n",
    "pd.DataFrame(x[\"X\"]).to_csv(\"x.csv\")"
   ]
  },
  {
   "cell_type": "markdown",
   "id": "7f72edab-5d8e-48d1-8ca8-f32ae9831d27",
   "metadata": {
    "tags": []
   },
   "source": [
    "In R, you can now run\n",
    "\n",
    "```\n",
    "trajectory <- read_csv(\"x.csv\") %>%\n",
    "  mutate(taxon = row_number()) %>%\n",
    "  pivot_longer(-taxon, names_to = \"time\") %>%\n",
    "  mutate(time = as.numeric(time))\n",
    "\n",
    "trajectory %>%\n",
    "  filter(taxon %in% as.character(1:25)) %>%\n",
    "  ggplot() +\n",
    "  geom_point(aes(time, value)) +\n",
    "  facet_wrap(~ reorder(taxon, value)) +\n",
    "  scale_y_log10()\n",
    "```\n",
    "\n",
    "to visualize the results."
   ]
  },
  {
   "cell_type": "code",
   "execution_count": null,
   "id": "aec700d7-8f2e-461c-9765-97d3f3fffe75",
   "metadata": {},
   "outputs": [],
   "source": []
  }
 ],
 "metadata": {
  "kernelspec": {
   "display_name": "mdsine2",
   "language": "python",
   "name": "mdsine2"
  },
  "language_info": {
   "codemirror_mode": {
    "name": "ipython",
    "version": 3
   },
   "file_extension": ".py",
   "mimetype": "text/x-python",
   "name": "python",
   "nbconvert_exporter": "python",
   "pygments_lexer": "ipython3",
   "version": "3.7.12"
  }
 },
 "nbformat": 4,
 "nbformat_minor": 5
}
