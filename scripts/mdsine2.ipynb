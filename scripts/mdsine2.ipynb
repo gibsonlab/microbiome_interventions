{
 "cells": [
  {
   "cell_type": "code",
   "execution_count": null,
   "id": "ab6a86d6-20f7-440a-8554-53e3ca149843",
   "metadata": {
    "tags": []
   },
   "outputs": [],
   "source": [
    "import mdsine2 as md2\n",
    "import pandas as pd\n",
    "import numpy as np\n",
    "\n",
    "# set negative binomial model inference parameters\n",
    "params = md2.config.NegBinConfig(\n",
    "  #seed=0, burnin=100, n_samples=200,\n",
    "  seed=0, burnin=10, n_samples=20,\n",
    "  checkpoint=10, \n",
    "  basepath=str(\"./negbin\")\n",
    ")\n",
    "\n",
    "dataset = md2.dataset.parse(\n",
    "  name=\"david-diet\", \n",
    "  taxonomy=\"taxonomy.tsv\",  \n",
    "  reads=\"reads.tsv\", \n",
    "  qpcr=\"qpcr.tsv\", \n",
    "  metadata=\"metadata.tsv\",\n",
    "  perturbations=\"perturbations.tsv\"\n",
    ")"
   ]
  },
  {
   "cell_type": "code",
   "execution_count": null,
   "id": "ca3ab985-2961-4726-bba6-81b4b2c6f966",
   "metadata": {
    "tags": []
   },
   "outputs": [],
   "source": [
    "mcmc_negbin = md2.negbin.build_graph(\n",
    "  params=params, \n",
    "  graph_name=dataset.name,\n",
    "  subjset=dataset\n",
    ")"
   ]
  },
  {
   "cell_type": "code",
   "execution_count": null,
   "id": "12c1dee6-2096-434b-80da-e15b48724299",
   "metadata": {
    "tags": []
   },
   "outputs": [],
   "source": [
    "mcmc_negbin.run()"
   ]
  },
  {
   "cell_type": "code",
   "execution_count": null,
   "id": "23e20c9c-c5d6-426f-aa2c-9e034cb58b61",
   "metadata": {
    "tags": []
   },
   "outputs": [],
   "source": [
    "from mdsine2.names import STRNAMES\n",
    "\n",
    "print('a0', md2.summary(mcmc_negbin.graph[STRNAMES.NEGBIN_A0]))\n",
    "print('a1', md2.summary(mcmc_negbin.graph[STRNAMES.NEGBIN_A1]))"
   ]
  },
  {
   "cell_type": "code",
   "execution_count": null,
   "id": "ef48d201-b035-419b-b70b-a0dbab1be564",
   "metadata": {
    "tags": []
   },
   "outputs": [],
   "source": [
    "import pathlib\n",
    "\n",
    "a0 = md2.summary(mcmc_negbin.graph[STRNAMES.NEGBIN_A0])['mean']\n",
    "a1 = md2.summary(mcmc_negbin.graph[STRNAMES.NEGBIN_A1])['mean']\n",
    "\n",
    "basepath = pathlib.Path(\"./mdsine2/david\")\n",
    "basepath.mkdir(exist_ok=True, parents=True)\n",
    "\n",
    "# Initialize parameters of the model (Seed = 0) burnin=50, total steps=100\n",
    "params = md2.config.MDSINE2ModelConfig(\n",
    "    basepath=str(basepath), \n",
    "    seed=0,\n",
    "    burnin=50, \n",
    "    n_samples=100, \n",
    "    negbin_a0=a0, negbin_a1=a1, \n",
    "    checkpoint=50\n",
    ")\n",
    "\n",
    "mcmc = md2.initialize_graph(params=params, graph_name=dataset.name, subjset=dataset)\n",
    "mcmc = md2.run_graph(mcmc, crash_if_error=True)"
   ]
  },
  {
   "cell_type": "markdown",
   "id": "69465423-2ff6-4feb-b755-ce35cd36bc2c",
   "metadata": {},
   "source": [
    "https://github.com/gerberlab/MDSINE2#computation-and-visualization-of-forward-simulation-of-learned-glv-model-for-each-otu"
   ]
  },
  {
   "cell_type": "code",
   "execution_count": null,
   "id": "12284682-9079-466e-9a67-160178a8f2e4",
   "metadata": {},
   "outputs": [],
   "source": [
    "dataset._subjects[\"Plant5\"].perturbations.__dict__[\"_d\"][\"Plant\"].starts"
   ]
  },
  {
   "cell_type": "code",
   "execution_count": null,
   "id": "eaeb6001-eb6a-4293-96ee-9657a3ac81ef",
   "metadata": {
    "tags": []
   },
   "outputs": [],
   "source": [
    "pd.read_csv(\"perturbations.tsv\", sep = \"\\t\")"
   ]
  },
  {
   "cell_type": "code",
   "execution_count": null,
   "id": "1612798f-bcec-48b5-89eb-423b8bfa0ac1",
   "metadata": {},
   "outputs": [],
   "source": []
  }
 ],
 "metadata": {
  "kernelspec": {
   "display_name": "mdsine2",
   "language": "python",
   "name": "mdsine2"
  },
  "language_info": {
   "codemirror_mode": {
    "name": "ipython",
    "version": 3
   },
   "file_extension": ".py",
   "mimetype": "text/x-python",
   "name": "python",
   "nbconvert_exporter": "python",
   "pygments_lexer": "ipython3",
   "version": "3.7.12"
  }
 },
 "nbformat": 4,
 "nbformat_minor": 5
}
