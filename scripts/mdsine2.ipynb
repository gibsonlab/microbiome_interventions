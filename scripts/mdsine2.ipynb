{
 "cells": [
  {
   "cell_type": "code",
   "execution_count": null,
   "id": "ab6a86d6-20f7-440a-8554-53e3ca149843",
   "metadata": {
    "tags": []
   },
   "outputs": [],
   "source": [
    "import mdsine2 as md2\n",
    "import pandas as pd\n",
    "import numpy as np\n",
    "\n",
    "# set negative binomial model inference parameters\n",
    "params = md2.config.NegBinConfig(\n",
    "  #seed=0, burnin=100, n_samples=200,\n",
    "  seed=0, burnin=10, n_samples=20,\n",
    "  checkpoint=10,\n",
    "  basepath=str(\"./negbin\")\n",
    ")\n",
    "\n",
    "dataset = md2.dataset.parse(\n",
    "  name=\"david-diet\", \n",
    "  taxonomy=\"taxonomy.tsv\",  \n",
    "  reads=\"reads.tsv\", \n",
    "  qpcr=\"qpcr.tsv\", \n",
    "  metadata=\"metadata.tsv\",\n",
    "  perturbations=\"perturbations.tsv\"\n",
    ")"
   ]
  },
  {
   "cell_type": "code",
   "execution_count": null,
   "id": "23c96e53-5ce1-4462-a9e5-07bc8e793785",
   "metadata": {
    "tags": []
   },
   "outputs": [],
   "source": [
    "mcmc_negbin = md2.negbin.build_graph(\n",
    "    params=params,\n",
    "    graph_name=dataset.name,\n",
    "    subjset=dataset\n",
    ")\n",
    "\n",
    "mcmc_negbin.run()"
   ]
  },
  {
   "cell_type": "markdown",
   "id": "bb4299b7-0141-4a20-9155-0a865f41d8bf",
   "metadata": {
    "tags": []
   },
   "source": [
    "###### mcmc_negbin.run()"
   ]
  },
  {
   "cell_type": "code",
   "execution_count": null,
   "id": "23e20c9c-c5d6-426f-aa2c-9e034cb58b61",
   "metadata": {
    "tags": []
   },
   "outputs": [],
   "source": [
    "from mdsine2.names import STRNAMES\n",
    "\n",
    "print('a0', md2.summary(mcmc_negbin.graph[STRNAMES.NEGBIN_A0]))\n",
    "print('a1', md2.summary(mcmc_negbin.graph[STRNAMES.NEGBIN_A1]))"
   ]
  },
  {
   "cell_type": "code",
   "execution_count": null,
   "id": "ef48d201-b035-419b-b70b-a0dbab1be564",
   "metadata": {
    "tags": []
   },
   "outputs": [],
   "source": [
    "import pathlib\n",
    "\n",
    "a0 = md2.summary(mcmc_negbin.graph[STRNAMES.NEGBIN_A0])['mean']\n",
    "a1 = md2.summary(mcmc_negbin.graph[STRNAMES.NEGBIN_A1])['mean']\n",
    "\n",
    "basepath = pathlib.Path(\"./mdsine2/david\")\n",
    "basepath.mkdir(exist_ok=True, parents=True)\n",
    "\n",
    "# Initialize parameters of the model (Seed = 0) burnin=50, total steps=100\n",
    "params = md2.config.MDSINE2ModelConfig(\n",
    "    basepath=str(basepath), \n",
    "    seed=0,\n",
    "#    burnin=50, \n",
    "    burnin=10,\n",
    "#    n_samples=100, \n",
    "    n_samples=20,\n",
    "    negbin_a0=a0, negbin_a1=a1, \n",
    "    checkpoint=10\n",
    ")\n",
    "\n",
    "mcmc = md2.initialize_graph(params=params, graph_name=dataset.name, subjset=dataset)\n",
    "mcmc = md2.run_graph(mcmc, crash_if_error=True)"
   ]
  },
  {
   "cell_type": "markdown",
   "id": "69465423-2ff6-4feb-b755-ce35cd36bc2c",
   "metadata": {},
   "source": [
    "https://github.com/gerberlab/MDSINE2#computation-and-visualization-of-forward-simulation-of-learned-glv-model-for-each-otu"
   ]
  },
  {
   "cell_type": "code",
   "execution_count": null,
   "id": "1612798f-bcec-48b5-89eb-423b8bfa0ac1",
   "metadata": {},
   "outputs": [],
   "source": [
    "n_taxa = 310\n",
    "n_time = 20\n",
    "perturbations = [np.ones(n_taxa), np.zeros(n_taxa)]\n",
    "interactions = np.eye(n_taxa)\n",
    "starts = [8, 15]\n",
    "ends = [12, 19]\n",
    "growths = .01 * np.ones(n_taxa)\n",
    "\n",
    "dyn = md2.model.gLVDynamicsSingleClustering(growth=growths, interactions=interactions, perturbations=perturbations, perturbation_starts=starts, perturbation_ends=ends)\n",
    "x = md2.integrate(dynamics=dyn, dt=.01, n_days=1, initial_conditions=np.ones((n_taxa, 1)))\n",
    "x"
   ]
  },
  {
   "cell_type": "code",
   "execution_count": null,
   "id": "10050336-a974-4a8c-9bf2-77a2787577f3",
   "metadata": {
    "tags": []
   },
   "outputs": [],
   "source": [
    "import pickle\n",
    "\n",
    "#with open('mcmc-david.pickle', 'wb') as handle:\n",
    "#    pickle.dump(mcmc, handle)\n",
    "\n",
    "#with open(\"mcmc-david.pickle\", \"rb\") as f:\n",
    "#    mcmc2 = pickle.load(f)"
   ]
  }
 ],
 "metadata": {
  "kernelspec": {
   "display_name": "mdsine2",
   "language": "python",
   "name": "mdsine2"
  },
  "language_info": {
   "codemirror_mode": {
    "name": "ipython",
    "version": 3
   },
   "file_extension": ".py",
   "mimetype": "text/x-python",
   "name": "python",
   "nbconvert_exporter": "python",
   "pygments_lexer": "ipython3",
   "version": "3.7.12"
  }
 },
 "nbformat": 4,
 "nbformat_minor": 5
}
